{
 "cells": [
  {
   "cell_type": "code",
   "execution_count": 1,
   "metadata": {},
   "outputs": [],
   "source": [
    "#importing libraries\n",
    "\n",
    "import pandas as pd\n",
    "import numpy as np\n",
    "from sklearn.linear_model import LinearRegression"
   ]
  },
  {
   "cell_type": "code",
   "execution_count": 2,
   "metadata": {},
   "outputs": [],
   "source": [
    "#loading dataset\n",
    "\n",
    "dataset = pd.read_csv('house.csv')"
   ]
  },
  {
   "cell_type": "code",
   "execution_count": 3,
   "metadata": {},
   "outputs": [
    {
     "name": "stdout",
     "output_type": "stream",
     "text": [
      "(1460, 8)\n",
      "   MSSubClass MSZoning  LotFrontage  LotArea HouseStyle  OverallQual  \\\n",
      "0          60       RL         65.0     8450     2Story            7   \n",
      "1          20       RL         80.0     9600     1Story            6   \n",
      "2          60       RL         68.0    11250     2Story            7   \n",
      "3          70       RL         60.0     9550     2Story            7   \n",
      "4          60       RL         84.0    14260     2Story            8   \n",
      "\n",
      "   OverallCond  SalePrice  \n",
      "0            5     208500  \n",
      "1            8     181500  \n",
      "2            5     223500  \n",
      "3            5     140000  \n",
      "4            5     250000  \n"
     ]
    }
   ],
   "source": [
    "#summarizing dataset\n",
    "\n",
    "print(dataset.shape)\n",
    "print(dataset.head(5))"
   ]
  },
  {
   "cell_type": "code",
   "execution_count": 4,
   "metadata": {},
   "outputs": [
    {
     "data": {
      "text/plain": [
       "Index(['LotFrontage'], dtype='object')"
      ]
     },
     "execution_count": 4,
     "metadata": {},
     "output_type": "execute_result"
    }
   ],
   "source": [
    "#finding NA values from our dataset\n",
    "\n",
    "dataset.columns[dataset.isna().any()]"
   ]
  },
  {
   "cell_type": "code",
   "execution_count": 5,
   "metadata": {},
   "outputs": [],
   "source": [
    "#removing NA values from our dataset\n",
    "\n",
    "dataset.LotFrontage = dataset.LotFrontage.fillna(dataset.LotFrontage.mean())"
   ]
  },
  {
   "cell_type": "code",
   "execution_count": 6,
   "metadata": {},
   "outputs": [
    {
     "data": {
      "text/plain": [
       "Index([], dtype='object')"
      ]
     },
     "execution_count": 6,
     "metadata": {},
     "output_type": "execute_result"
    }
   ],
   "source": [
    "#rechecking for NA Values\n",
    "\n",
    "dataset.columns[dataset.isna().any()]"
   ]
  },
  {
   "cell_type": "code",
   "execution_count": 7,
   "metadata": {},
   "outputs": [
    {
     "name": "stdout",
     "output_type": "stream",
     "text": [
      "<bound method NDFrame.head of       MSSubClass  MSZoning  LotFrontage  LotArea  HouseStyle  OverallQual  \\\n",
      "0             60         1         65.0     8450           2            7   \n",
      "1             20         1         80.0     9600           1            6   \n",
      "2             60         1         68.0    11250           2            7   \n",
      "3             70         1         60.0     9550           2            7   \n",
      "4             60         1         84.0    14260           2            8   \n",
      "...          ...       ...          ...      ...         ...          ...   \n",
      "1455          60         1         62.0     7917           2            6   \n",
      "1456          20         1         85.0    13175           1            6   \n",
      "1457          70         1         66.0     9042           2            7   \n",
      "1458          20         1         68.0     9717           1            5   \n",
      "1459          20         1         75.0     9937           1            5   \n",
      "\n",
      "      OverallCond  SalePrice  \n",
      "0               5     208500  \n",
      "1               8     181500  \n",
      "2               5     223500  \n",
      "3               5     140000  \n",
      "4               5     250000  \n",
      "...           ...        ...  \n",
      "1455            5     175000  \n",
      "1456            6     210000  \n",
      "1457            9     266500  \n",
      "1458            6     142125  \n",
      "1459            6     147500  \n",
      "\n",
      "[1460 rows x 8 columns]>\n"
     ]
    }
   ],
   "source": [
    "#Mapping Salary data into Interger Values\n",
    "\n",
    "dataset['MSZoning'] = dataset['MSZoning'].map({'RL': 1, 'RM':2, 'FV':3, 'RH':4, 'C (all)':5}).astype(int)\n",
    "\n",
    "dataset['HouseStyle'] = dataset['HouseStyle'].map({'1Story': 1, '2Story':2, '1.5Fin':3, '1.5Unf':4, '2.5Fin':5, '2.5Unf':6, 'SLvl':7, 'SFoyer':8}).astype(int)\n",
    "\n",
    "print(dataset.head)"
   ]
  },
  {
   "cell_type": "code",
   "execution_count": 8,
   "metadata": {},
   "outputs": [
    {
     "name": "stdout",
     "output_type": "stream",
     "text": [
      "(1460, 7)\n"
     ]
    },
    {
     "data": {
      "text/plain": [
       "0       208500\n",
       "1       181500\n",
       "2       223500\n",
       "3       140000\n",
       "4       250000\n",
       "         ...  \n",
       "1455    175000\n",
       "1456    210000\n",
       "1457    266500\n",
       "1458    142125\n",
       "1459    147500\n",
       "Name: SalePrice, Length: 1460, dtype: int64"
      ]
     },
     "execution_count": 8,
     "metadata": {},
     "output_type": "execute_result"
    }
   ],
   "source": [
    "#segregating dataset into X and Y\n",
    "\n",
    "X=dataset.drop('SalePrice',axis='columns')\n",
    "X\n",
    "print(np.shape(X))\n",
    "\n",
    "Y=dataset.SalePrice\n",
    "Y"
   ]
  },
  {
   "cell_type": "code",
   "execution_count": 9,
   "metadata": {},
   "outputs": [
    {
     "data": {
      "text/plain": [
       "LinearRegression()"
      ]
     },
     "execution_count": 9,
     "metadata": {},
     "output_type": "execute_result"
    }
   ],
   "source": [
    "#training dataset using Linear Regression\n",
    "\n",
    "model = LinearRegression()\n",
    "model.fit(X,Y)"
   ]
  },
  {
   "cell_type": "code",
   "execution_count": 10,
   "metadata": {},
   "outputs": [
    {
     "name": "stdout",
     "output_type": "stream",
     "text": [
      "[226716.81513709]\n"
     ]
    }
   ],
   "source": [
    "#predicting price for house\n",
    "\n",
    "x = [[20,1,80,10000,2,7,5]]\n",
    "result = model.predict(x)\n",
    "print(result)"
   ]
  },
  {
   "cell_type": "code",
   "execution_count": null,
   "metadata": {},
   "outputs": [],
   "source": []
  }
 ],
 "metadata": {
  "kernelspec": {
   "display_name": "Python 3",
   "language": "python",
   "name": "python3"
  },
  "language_info": {
   "codemirror_mode": {
    "name": "ipython",
    "version": 3
   },
   "file_extension": ".py",
   "mimetype": "text/x-python",
   "name": "python",
   "nbconvert_exporter": "python",
   "pygments_lexer": "ipython3",
   "version": "3.8.5"
  }
 },
 "nbformat": 4,
 "nbformat_minor": 4
}
